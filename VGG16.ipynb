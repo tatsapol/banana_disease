{
  "nbformat": 4,
  "nbformat_minor": 0,
  "metadata": {
    "colab": {
      "provenance": [],
      "machine_shape": "hm",
      "gpuType": "T4"
    },
    "kernelspec": {
      "name": "python3",
      "display_name": "Python 3"
    },
    "language_info": {
      "name": "python"
    },
    "accelerator": "GPU"
  },
  "cells": [
    {
      "cell_type": "code",
      "execution_count": null,
      "metadata": {
        "id": "8tszMSGXDAGK"
      },
      "outputs": [],
      "source": [
        "import tensorflow as tf\n",
        "from tensorflow.keras.preprocessing.image import ImageDataGenerator\n",
        "from tensorflow.keras.applications import VGG16\n",
        "from tensorflow.keras.layers import Dense, Flatten, Dropout\n",
        "from tensorflow.keras.models import Model\n",
        "from tensorflow.keras.optimizers import Adam"
      ]
    },
    {
      "cell_type": "code",
      "source": [
        "# Define image size and batch size\n",
        "img_size = (256, 256)\n",
        "batch_size = 32\n",
        "\n",
        "# Data generator with automatic train-validation split\n",
        "train_datagen = ImageDataGenerator(rescale=1.0/255, validation_split=0.2)  # 20% of the data for validation\n",
        "\n",
        "# Training generator (80% of data)\n",
        "train_generator = train_datagen.flow_from_directory(\n",
        "    \"/content/drive/MyDrive/original+augment\",\n",
        "    target_size=img_size,\n",
        "    batch_size=batch_size,\n",
        "    class_mode='categorical',\n",
        "    subset='training',\n",
        "    shuffle=True  # Shuffles the data for training\n",
        ")\n",
        "\n",
        "# Validation generator (20% of data)\n",
        "val_generator = train_datagen.flow_from_directory(\n",
        "    \"/content/drive/MyDrive/original+augment\",\n",
        "    target_size=img_size,\n",
        "    batch_size=batch_size,\n",
        "    class_mode='categorical',\n",
        "    subset='validation',\n",
        "    shuffle=False  # No need to shuffle for validation\n",
        ")\n"
      ],
      "metadata": {
        "colab": {
          "base_uri": "https://localhost:8080/"
        },
        "id": "pB2PxyvZDF7P",
        "outputId": "21157d66-47bd-4429-b3ef-d7a3882766ab"
      },
      "execution_count": null,
      "outputs": [
        {
          "output_type": "stream",
          "name": "stdout",
          "text": [
            "Found 2019 images belonging to 6 classes.\n",
            "Found 503 images belonging to 6 classes.\n"
          ]
        }
      ]
    },
    {
      "cell_type": "code",
      "source": [
        "# Load the VGG16 model with pre-trained ImageNet weights, excluding the top layers\n",
        "base_model = VGG16(weights='imagenet', include_top=False, input_shape=(256, 256, 3))"
      ],
      "metadata": {
        "id": "uQQw9QDJKBAZ",
        "colab": {
          "base_uri": "https://localhost:8080/"
        },
        "outputId": "dca29f27-7614-4129-e420-adf1666b843f"
      },
      "execution_count": null,
      "outputs": [
        {
          "output_type": "stream",
          "name": "stdout",
          "text": [
            "Downloading data from https://storage.googleapis.com/tensorflow/keras-applications/vgg16/vgg16_weights_tf_dim_ordering_tf_kernels_notop.h5\n",
            "\u001b[1m58889256/58889256\u001b[0m \u001b[32m━━━━━━━━━━━━━━━━━━━━\u001b[0m\u001b[37m\u001b[0m \u001b[1m2s\u001b[0m 0us/step\n"
          ]
        }
      ]
    },
    {
      "cell_type": "code",
      "source": [
        "# Freeze the layers of the base model\n",
        "for layer in base_model.layers:\n",
        "    layer.trainable = False"
      ],
      "metadata": {
        "id": "AbtVJCLqKDkg"
      },
      "execution_count": null,
      "outputs": []
    },
    {
      "cell_type": "code",
      "source": [
        "# Add custom layers on top of the base model\n",
        "x = base_model.output\n",
        "x = Flatten()(x)\n",
        "x = Dense(128, activation='relu')(x)\n",
        "x = Dropout(0.5)(x)\n",
        "output = Dense(6, activation='softmax')(x)  # 7 classes for banana leaf diseases\n",
        "\n",
        "# Define the final model\n",
        "model = Model(inputs=base_model.input, outputs=output)"
      ],
      "metadata": {
        "id": "-ZoFiPx7KF-d"
      },
      "execution_count": null,
      "outputs": []
    },
    {
      "cell_type": "code",
      "source": [
        "# Compile the model\n",
        "model.compile(optimizer=Adam(learning_rate=0.001),\n",
        "              loss='categorical_crossentropy',\n",
        "              metrics=['accuracy'])"
      ],
      "metadata": {
        "id": "hpkk-jvGKJLK"
      },
      "execution_count": null,
      "outputs": []
    },
    {
      "cell_type": "code",
      "source": [
        "# history = model.fit(\n",
        "#     train_generator,\n",
        "#     validation_data=val_generator,\n",
        "#     epochs=6,\n",
        "#     steps_per_epoch = train_generator.samples // batch_size,\n",
        "#     validation_steps = val_generator.samples // batch_size\n",
        "# )"
      ],
      "metadata": {
        "id": "pyxAtcOWO3MW"
      },
      "execution_count": null,
      "outputs": []
    },
    {
      "cell_type": "code",
      "source": [
        "nb_epochs = 15\n",
        "\n",
        "# Train the model\n",
        "history = model.fit(\n",
        "    train_generator,  # flow_from_directory generator for training data\n",
        "    validation_data=val_generator,  # flow_from_directory generator for validation data\n",
        "    epochs=nb_epochs,\n",
        "    verbose=1\n",
        ")\n",
        "#no aug 4 ,aug 12"
      ],
      "metadata": {
        "colab": {
          "base_uri": "https://localhost:8080/"
        },
        "id": "12qRtbV-oOKY",
        "outputId": "076dbd43-4001-4ccd-dc96-8b3262e2d6eb"
      },
      "execution_count": null,
      "outputs": [
        {
          "output_type": "stream",
          "name": "stdout",
          "text": [
            "Epoch 1/15\n"
          ]
        },
        {
          "output_type": "stream",
          "name": "stderr",
          "text": [
            "/usr/local/lib/python3.10/dist-packages/keras/src/trainers/data_adapters/py_dataset_adapter.py:122: UserWarning: Your `PyDataset` class should call `super().__init__(**kwargs)` in its constructor. `**kwargs` can include `workers`, `use_multiprocessing`, `max_queue_size`. Do not pass these arguments to `fit()`, as they will be ignored.\n",
            "  self._warn_if_super_not_called()\n"
          ]
        },
        {
          "output_type": "stream",
          "name": "stdout",
          "text": [
            "\u001b[1m64/64\u001b[0m \u001b[32m━━━━━━━━━━━━━━━━━━━━\u001b[0m\u001b[37m\u001b[0m \u001b[1m863s\u001b[0m 12s/step - accuracy: 0.3588 - loss: 1.9958 - val_accuracy: 0.7873 - val_loss: 0.6482\n",
            "Epoch 2/15\n",
            "\u001b[1m64/64\u001b[0m \u001b[32m━━━━━━━━━━━━━━━━━━━━\u001b[0m\u001b[37m\u001b[0m \u001b[1m14s\u001b[0m 203ms/step - accuracy: 0.6605 - loss: 0.7879 - val_accuracy: 0.8867 - val_loss: 0.4325\n",
            "Epoch 3/15\n",
            "\u001b[1m64/64\u001b[0m \u001b[32m━━━━━━━━━━━━━━━━━━━━\u001b[0m\u001b[37m\u001b[0m \u001b[1m14s\u001b[0m 207ms/step - accuracy: 0.7084 - loss: 0.6946 - val_accuracy: 0.9205 - val_loss: 0.3410\n",
            "Epoch 4/15\n",
            "\u001b[1m64/64\u001b[0m \u001b[32m━━━━━━━━━━━━━━━━━━━━\u001b[0m\u001b[37m\u001b[0m \u001b[1m21s\u001b[0m 215ms/step - accuracy: 0.7520 - loss: 0.5588 - val_accuracy: 0.9364 - val_loss: 0.2476\n",
            "Epoch 5/15\n",
            "\u001b[1m64/64\u001b[0m \u001b[32m━━━━━━━━━━━━━━━━━━━━\u001b[0m\u001b[37m\u001b[0m \u001b[1m20s\u001b[0m 210ms/step - accuracy: 0.7956 - loss: 0.4761 - val_accuracy: 0.9284 - val_loss: 0.2338\n",
            "Epoch 6/15\n",
            "\u001b[1m64/64\u001b[0m \u001b[32m━━━━━━━━━━━━━━━━━━━━\u001b[0m\u001b[37m\u001b[0m \u001b[1m21s\u001b[0m 219ms/step - accuracy: 0.8176 - loss: 0.4348 - val_accuracy: 0.9324 - val_loss: 0.1871\n",
            "Epoch 7/15\n",
            "\u001b[1m64/64\u001b[0m \u001b[32m━━━━━━━━━━━━━━━━━━━━\u001b[0m\u001b[37m\u001b[0m \u001b[1m15s\u001b[0m 219ms/step - accuracy: 0.8316 - loss: 0.3888 - val_accuracy: 0.9523 - val_loss: 0.1497\n",
            "Epoch 8/15\n",
            "\u001b[1m64/64\u001b[0m \u001b[32m━━━━━━━━━━━━━━━━━━━━\u001b[0m\u001b[37m\u001b[0m \u001b[1m17s\u001b[0m 258ms/step - accuracy: 0.8629 - loss: 0.3323 - val_accuracy: 0.9523 - val_loss: 0.1535\n",
            "Epoch 9/15\n",
            "\u001b[1m64/64\u001b[0m \u001b[32m━━━━━━━━━━━━━━━━━━━━\u001b[0m\u001b[37m\u001b[0m \u001b[1m15s\u001b[0m 214ms/step - accuracy: 0.8537 - loss: 0.3388 - val_accuracy: 0.9463 - val_loss: 0.1554\n",
            "Epoch 10/15\n",
            "\u001b[1m64/64\u001b[0m \u001b[32m━━━━━━━━━━━━━━━━━━━━\u001b[0m\u001b[37m\u001b[0m \u001b[1m20s\u001b[0m 216ms/step - accuracy: 0.8562 - loss: 0.3429 - val_accuracy: 0.9503 - val_loss: 0.1444\n",
            "Epoch 11/15\n",
            "\u001b[1m64/64\u001b[0m \u001b[32m━━━━━━━━━━━━━━━━━━━━\u001b[0m\u001b[37m\u001b[0m \u001b[1m16s\u001b[0m 238ms/step - accuracy: 0.8576 - loss: 0.3318 - val_accuracy: 0.9543 - val_loss: 0.1401\n",
            "Epoch 12/15\n",
            "\u001b[1m64/64\u001b[0m \u001b[32m━━━━━━━━━━━━━━━━━━━━\u001b[0m\u001b[37m\u001b[0m \u001b[1m17s\u001b[0m 257ms/step - accuracy: 0.8863 - loss: 0.2930 - val_accuracy: 0.9523 - val_loss: 0.1567\n",
            "Epoch 13/15\n",
            "\u001b[1m64/64\u001b[0m \u001b[32m━━━━━━━━━━━━━━━━━━━━\u001b[0m\u001b[37m\u001b[0m \u001b[1m20s\u001b[0m 244ms/step - accuracy: 0.8633 - loss: 0.3162 - val_accuracy: 0.9503 - val_loss: 0.1444\n",
            "Epoch 14/15\n",
            "\u001b[1m64/64\u001b[0m \u001b[32m━━━━━━━━━━━━━━━━━━━━\u001b[0m\u001b[37m\u001b[0m \u001b[1m19s\u001b[0m 223ms/step - accuracy: 0.8618 - loss: 0.2874 - val_accuracy: 0.9583 - val_loss: 0.1368\n",
            "Epoch 15/15\n",
            "\u001b[1m64/64\u001b[0m \u001b[32m━━━━━━━━━━━━━━━━━━━━\u001b[0m\u001b[37m\u001b[0m \u001b[1m15s\u001b[0m 225ms/step - accuracy: 0.8737 - loss: 0.2878 - val_accuracy: 0.9563 - val_loss: 0.1231\n"
          ]
        }
      ]
    },
    {
      "cell_type": "code",
      "source": [
        "# Evaluate on validation set\n",
        "val_loss, val_accuracy = model.evaluate(val_generator)\n",
        "print(f\"Validation accuracy: {val_accuracy:.2f}\")"
      ],
      "metadata": {
        "colab": {
          "base_uri": "https://localhost:8080/"
        },
        "id": "ooT1i40cKQ3B",
        "outputId": "8d3e8191-0cee-4a27-cbd7-bbefdf02c0b0"
      },
      "execution_count": null,
      "outputs": [
        {
          "output_type": "stream",
          "name": "stdout",
          "text": [
            "\u001b[1m16/16\u001b[0m \u001b[32m━━━━━━━━━━━━━━━━━━━━\u001b[0m\u001b[37m\u001b[0m \u001b[1m3s\u001b[0m 180ms/step - accuracy: 0.9595 - loss: 0.1616\n",
            "Validation accuracy: 0.97\n"
          ]
        }
      ]
    },
    {
      "cell_type": "code",
      "source": [
        "from sklearn.metrics import classification_report\n",
        "import numpy as np\n",
        "\n",
        "# Predict the labels for the test set\n",
        "y_pred = model.predict(val_generator)\n",
        "y_pred_classes = np.argmax(y_pred, axis=1)\n",
        "\n",
        "# Get true labels from the test generator\n",
        "y_true = val_generator.classes\n",
        "\n",
        "# Generate and display a classification report\n",
        "report = classification_report(y_true, y_pred_classes, target_names=val_generator.class_indices.keys())\n",
        "print('Classification Report:\\n', report)"
      ],
      "metadata": {
        "colab": {
          "base_uri": "https://localhost:8080/"
        },
        "id": "9QcjWVd_Q440",
        "outputId": "dd8e298f-947b-4924-80a9-fe538885d4f3"
      },
      "execution_count": null,
      "outputs": [
        {
          "output_type": "stream",
          "name": "stdout",
          "text": [
            "\u001b[1m16/16\u001b[0m \u001b[32m━━━━━━━━━━━━━━━━━━━━\u001b[0m\u001b[37m\u001b[0m \u001b[1m4s\u001b[0m 205ms/step\n",
            "Classification Report:\n",
            "                                precision    recall  f1-score   support\n",
            "\n",
            "Banana Black Sigatoka Disease       0.96      0.92      0.94        83\n",
            "                      healthy       1.00      1.00      1.00        79\n",
            "                       insect       0.95      0.95      0.95        78\n",
            "                         moko       1.00      0.96      0.98        84\n",
            "                       panama       0.96      1.00      0.98        88\n",
            "                       yellow       0.96      0.99      0.97        91\n",
            "\n",
            "                     accuracy                           0.97       503\n",
            "                    macro avg       0.97      0.97      0.97       503\n",
            "                 weighted avg       0.97      0.97      0.97       503\n",
            "\n"
          ]
        }
      ]
    }
  ]
}