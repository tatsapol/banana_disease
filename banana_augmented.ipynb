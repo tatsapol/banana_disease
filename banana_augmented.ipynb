{
  "nbformat": 4,
  "nbformat_minor": 0,
  "metadata": {
    "colab": {
      "provenance": []
    },
    "kernelspec": {
      "name": "python3",
      "display_name": "Python 3"
    },
    "language_info": {
      "name": "python"
    }
  },
  "cells": [
    {
      "cell_type": "code",
      "execution_count": null,
      "metadata": {
        "id": "_VHHVGyW62h6"
      },
      "outputs": [],
      "source": [
        "from tensorflow.keras.preprocessing.image import ImageDataGenerator, img_to_array, load_img\n",
        "import os\n",
        "import shutil"
      ]
    },
    {
      "cell_type": "code",
      "source": [
        "# Set up the augmentation generator\n",
        "datagen = ImageDataGenerator(\n",
        "    rotation_range=30,\n",
        "    width_shift_range=0.1,\n",
        "    height_shift_range=0.1,\n",
        "    shear_range=0.2,\n",
        "    zoom_range=0.2,\n",
        "    horizontal_flip=True,\n",
        "    vertical_flip=True,\n",
        "    brightness_range=[0.8, 1.2],\n",
        "    fill_mode='nearest'\n",
        ")\n"
      ],
      "metadata": {
        "id": "A7jkAgoI69_K"
      },
      "execution_count": null,
      "outputs": []
    },
    {
      "cell_type": "code",
      "source": [
        "# Specify the directory containing each class folder\n",
        "input_dir = '/content/drive/MyDrive/banana_to_aug'\n",
        "output_dir = '/content/drive/MyDrive/augment'"
      ],
      "metadata": {
        "id": "_QNZC-4M5ZR7"
      },
      "execution_count": null,
      "outputs": []
    },
    {
      "cell_type": "code",
      "source": [
        "# Set your desired number of images per class\n",
        "target_images = 400  # Set this manually to your desired value\n",
        "\n",
        "# Count the number of images in each class\n",
        "class_counts = {class_folder: len(os.listdir(os.path.join(input_dir, class_folder)))\n",
        "                for class_folder in os.listdir(input_dir)}\n",
        "\n",
        "# Create output directories for each class\n",
        "for class_folder in class_counts.keys():\n",
        "    os.makedirs(os.path.join(output_dir, class_folder), exist_ok=True)\n",
        "\n",
        "# Augment each class to reach the target number of images\n",
        "for class_folder, num_images in class_counts.items():\n",
        "    class_path = os.path.join(input_dir, class_folder)\n",
        "    save_dir = os.path.join(output_dir, class_folder)\n",
        "\n",
        "    # Copy original images to the output directory\n",
        "    for img_name in os.listdir(class_path):\n",
        "        shutil.copy(os.path.join(class_path, img_name), save_dir)\n",
        "\n",
        "    # Calculate the number of augmented images needed\n",
        "    images_to_augment = max(0, target_images - num_images)\n",
        "\n",
        "    # Augment images dynamically\n",
        "    img_list = os.listdir(class_path)\n",
        "    for i in range(images_to_augment):\n",
        "        # Select an image to augment (loop over existing images)\n",
        "        img_name = img_list[i % len(img_list)]\n",
        "        img_path = os.path.join(class_path, img_name)\n",
        "        img = load_img(img_path)\n",
        "        x = img_to_array(img)\n",
        "        x = x.reshape((1,) + x.shape)\n",
        "\n",
        "        # Generate one augmented image and save it\n",
        "        for batch in datagen.flow(x, batch_size=1, save_to_dir=save_dir, save_prefix='aug', save_format='jpeg'):\n",
        "            break  # Only one image per iteration"
      ],
      "metadata": {
        "id": "rCiT_AOx7Atz"
      },
      "execution_count": null,
      "outputs": []
    },
    {
      "cell_type": "code",
      "source": [
        "# prompt: count picture in /content/drive/MyDrive/banana_to_aug/(each folder)\n",
        "\n",
        "import os\n",
        "\n",
        "def count_pictures(directory):\n",
        "  \"\"\"Counts the number of picture files in a given directory.\n",
        "\n",
        "  Args:\n",
        "    directory: The path to the directory.\n",
        "\n",
        "  Returns:\n",
        "    The number of picture files in the directory.\n",
        "  \"\"\"\n",
        "  count = 0\n",
        "  for filename in os.listdir(directory):\n",
        "    if filename.lower().endswith(('.png', '.jpg', '.jpeg', '.bmp', '.gif')):\n",
        "      count += 1\n",
        "  return count\n",
        "\n",
        "# Specify the directory containing each class folder\n",
        "input_dir = '/content/drive/MyDrive/original'\n",
        "\n",
        "# Loop through each class folder and count pictures\n",
        "for class_folder in os.listdir(input_dir):\n",
        "    class_path = os.path.join(input_dir, class_folder)\n",
        "    picture_count = count_pictures(class_path)\n",
        "    print(f\"Number of pictures in '{class_path}': {picture_count}\")"
      ],
      "metadata": {
        "colab": {
          "base_uri": "https://localhost:8080/"
        },
        "id": "W0QsypQadmVW",
        "outputId": "4c5b9efb-5301-4b05-afe6-cf75a0fab468"
      },
      "execution_count": null,
      "outputs": [
        {
          "output_type": "stream",
          "name": "stdout",
          "text": [
            "Number of pictures in '/content/drive/MyDrive/original/panama': 41\n",
            "Number of pictures in '/content/drive/MyDrive/original/yellow': 23\n",
            "Number of pictures in '/content/drive/MyDrive/original/Banana Black Sigatoka Disease': 67\n",
            "Number of pictures in '/content/drive/MyDrive/original/moko': 55\n",
            "Number of pictures in '/content/drive/MyDrive/original/insect': 86\n",
            "Number of pictures in '/content/drive/MyDrive/original/healthy': 154\n"
          ]
        }
      ]
    }
  ]
}